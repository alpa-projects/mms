{
 "cells": [
  {
   "cell_type": "markdown",
   "id": "6fc6a7f8-4950-4a8f-a968-969ce323a8ff",
   "metadata": {},
   "source": [
    "# SLO Plots"
   ]
  },
  {
   "cell_type": "code",
   "execution_count": null,
   "id": "choice-software",
   "metadata": {},
   "outputs": [],
   "source": [
    "import os\n",
    "from plot_goodput_vs_slo import read_data, plot_goodput_vs_slo\n",
    "import matplotlib.pyplot as plt\n",
    "import numpy as np\n",
    "from IPython.display import set_matplotlib_formats\n",
    "# set_matplotlib_formats('pdf', 'svg')\n",
    "\n",
    "def run_and_plot(exp_name):\n",
    "    os.system(f\"python gen_data_notebook.py {exp_name}\")\n",
    "    # print(os.popen(f'python run_goodput_experiments.py {exp_name}').read())\n",
    "    result_file = f\"res_{exp_name}.tsv\"\n",
    "    result_plot = f\"fig_{exp_name}.pdf\"\n",
    "    data = read_data(result_file)\n",
    "    plot_goodput_vs_slo(data, result_plot, True)"
   ]
  },
  {
   "cell_type": "code",
   "execution_count": null,
   "id": "mysterious-generation",
   "metadata": {},
   "outputs": [],
   "source": [
    "run_and_plot(\"gamma_2\")"
   ]
  },
  {
   "cell_type": "code",
   "execution_count": null,
   "id": "e00cb5a9-3b15-4e3f-8042-9a44f991c5e7",
   "metadata": {},
   "outputs": [],
   "source": [
    "run_and_plot(\"gamma_2_long_slos\")"
   ]
  },
  {
   "cell_type": "code",
   "execution_count": null,
   "id": "1da12995-e919-452f-8c59-ffe36debc5dd",
   "metadata": {},
   "outputs": [],
   "source": [
    "run_and_plot(\"gamma_2_short_slos_no_ilp\")"
   ]
  },
  {
   "cell_type": "code",
   "execution_count": null,
   "id": "6c98ad1a-0e75-4862-8351-16f4ca00316e",
   "metadata": {},
   "outputs": [],
   "source": [
    "run_and_plot(\"gamma_2_long_slos_no_ilp\")"
   ]
  },
  {
   "cell_type": "code",
   "execution_count": null,
   "id": "740e6696-dd7c-4c89-9c6b-f34008845dae",
   "metadata": {},
   "outputs": [],
   "source": [
    "experiments = [\n",
    "    \"gamma_2_long_slos_no_ilp_duration_400_pipeline_overhead_1.0\",\n",
    "    \"gamma_2_long_slos_no_ilp_duration_400_pipeline_overhead_1.05\",\n",
    "    \"gamma_2_long_slos_no_ilp_duration_400_pipeline_overhead_1.1\",\n",
    "    \"gamma_2_long_slos_no_ilp_duration_400_pipeline_overhead_1.15\",\n",
    "    \"gamma_2_long_slos_no_ilp_duration_400_pipeline_overhead_1.2\",\n",
    "    \"gamma_2_long_slos_no_ilp_duration_400_pipeline_overhead_1.25\",\n",
    "    \"gamma_2_long_slos_no_ilp_duration_400_pipeline_overhead_1.3\",\n",
    "    \"gamma_2_long_slos_no_ilp_duration_400_pipeline_overhead_1.35\",\n",
    "    \"gamma_2_long_slos_no_ilp_duration_400_pipeline_overhead_1.4\",\n",
    "    \"gamma_2_long_slos_no_ilp_duration_400_pipeline_overhead_1.45\",\n",
    "    \"gamma_2_long_slos_no_ilp_duration_400_pipeline_overhead_1.5\",\n",
    "]\n",
    "for experiment in experiments:\n",
    "    run_and_plot(experiment)"
   ]
  },
  {
   "cell_type": "code",
   "execution_count": null,
   "id": "92271b5b-0278-4f85-9bd3-216716df2eb4",
   "metadata": {},
   "outputs": [],
   "source": [
    "datasets = [\n",
    "    \"res_gamma_2_long_slos_no_ilp_duration_400_pipeline_overhead_1.0.tsv\",\n",
    "    \"res_gamma_2_long_slos_no_ilp_duration_400_pipeline_overhead_1.05.tsv\",\n",
    "    \"res_gamma_2_long_slos_no_ilp_duration_400_pipeline_overhead_1.1.tsv\",\n",
    "    \"res_gamma_2_long_slos_no_ilp_duration_400_pipeline_overhead_1.15.tsv\",\n",
    "    \"res_gamma_2_long_slos_no_ilp_duration_400_pipeline_overhead_1.2.tsv\",\n",
    "    \"res_gamma_2_long_slos_no_ilp_duration_400_pipeline_overhead_1.25.tsv\",\n",
    "    \"res_gamma_2_long_slos_no_ilp_duration_400_pipeline_overhead_1.3.tsv\",\n",
    "    \"res_gamma_2_long_slos_no_ilp_duration_400_pipeline_overhead_1.35.tsv\",\n",
    "    \"res_gamma_2_long_slos_no_ilp_duration_400_pipeline_overhead_1.4.tsv\",\n",
    "    \"res_gamma_2_long_slos_no_ilp_duration_400_pipeline_overhead_1.45.tsv\",\n",
    "    \"res_gamma_2_long_slos_no_ilp_duration_400_pipeline_overhead_1.5.tsv\",\n",
    "]\n",
    "\n",
    "data = {}\n",
    "for dataset in datasets:\n",
    "    data[dataset] = read_data(dataset)\n",
    "sr_data = data[datasets[0]][\"sr\"]\n",
    "data = {\"mp_\" + k.split(\".tsv\")[0].split(\"_\")[-1]: data[k][\"mp\"] for k in datasets}\n",
    "data[\"sr\"] = sr_data"
   ]
  },
  {
   "cell_type": "code",
   "execution_count": null,
   "id": "e16e888e-7a44-4b85-9e57-42dd76c9655a",
   "metadata": {},
   "outputs": [],
   "source": [
    "color_dict = {\n",
    "    \"mp_1.0\": \"#1f77b4ff\",\n",
    "    \"mp_1.05\": \"#1f77b4ef\",\n",
    "    \"mp_1.1\": \"#1f77b4df\",\n",
    "    \"mp_1.15\": \"#1f77b4cf\",\n",
    "    \"mp_1.2\": \"#1f77b4bf\",\n",
    "    \"mp_1.25\": \"#1f77b4af\",\n",
    "    \"mp_1.3\": \"#1f77b49f\",\n",
    "    \"mp_1.35\": \"#1f77b48f\",\n",
    "    \"mp_1.4\": \"#1f77b47f\",\n",
    "    \"mp_1.45\": \"#1f77b46f\",\n",
    "    \"mp_1.5\": \"#1f77b45f\",\n",
    "    \"sr\": \"C1\"\n",
    "}\n",
    "\n",
    "def plot_goodput_vs_slo_many(data, output, show):\n",
    "    fig, ax = plt.subplots()\n",
    "    figure_size = (4, 4)\n",
    "\n",
    "    methods = list(data.keys())\n",
    "    # methods.sort(key=lambda x: method2order(x))\n",
    "\n",
    "    curves = []\n",
    "    legends = []\n",
    "    x_max = 0\n",
    "    y_max = 0\n",
    "    for method in methods:\n",
    "        curve = data[method]\n",
    "        xs, ys = zip(*curve.items())\n",
    "        ys = np.array(ys) * 100\n",
    "        curve = ax.plot(xs, ys, color=color_dict[method], marker='.')\n",
    "        curves.append(curve[0])\n",
    "        legends.append(method)\n",
    "\n",
    "        x_max = max(x_max, *xs)\n",
    "        y_max = max(y_max, *ys)\n",
    "\n",
    "    ax.set_ylim(bottom=0, top=max(y_max * 1.05, 100))\n",
    "    x_max = 64\n",
    "    ax.set_xlim(left=0, right=x_max * 1.05)\n",
    "    ax.set_ylabel(\"Goodput (%)\")\n",
    "    ax.set_xlabel(\"SLO (second)\")\n",
    "    ax.legend(curves, legends)\n",
    "\n",
    "    if show:\n",
    "        plt.show()\n",
    "\n",
    "    fig.set_size_inches(figure_size)\n",
    "    fig.savefig(output, bbox_inches='tight')\n",
    "    print(f\"Output the plot to {output}\")\n",
    "plot_goodput_vs_slo_many(data, \"fig_pipeline_overheads.pdf\", show=True)"
   ]
  },
  {
   "cell_type": "markdown",
   "id": "d19d248a-312e-40ae-96cb-953a88e410fc",
   "metadata": {},
   "source": [
    "# Requests Arrival Pattern"
   ]
  },
  {
   "cell_type": "code",
   "execution_count": null,
   "id": "f5a1b479-5127-4bec-8c1d-8afc8e430258",
   "metadata": {},
   "outputs": [],
   "source": [
    "from alpa_serve.simulator.workload import GammaProcess, UniformMMPP\n",
    "from alpa_serve.util import GB"
   ]
  },
  {
   "cell_type": "code",
   "execution_count": null,
   "id": "dd905883-05be-4d8d-a768-ccec9fe0748c",
   "metadata": {},
   "outputs": [],
   "source": [
    "def generate_gamma_arrivals(num_models=16, average_rate=8, cv=10, duration=400, start=0.0, seed=1):\n",
    "    model_names = [f\"m{i}\" for i in range(num_models)]\n",
    "    arrival_process = GammaProcess(average_rate, cv)\n",
    "    model_arrivals = {}\n",
    "    for i, name in enumerate(model_names):\n",
    "        model_arrivals[name] = arrival_process.generate_workload(name, start, duration, seed=seed + i).arrivals\n",
    "    return model_names, model_arrivals\n",
    "\n",
    "def generate_uniform_mmpp_arrivals(num_models=16, duration=400, state_durations=(1, 1),\n",
    "                                   state_request_rates=(2, 4), start=0.0, seed=1):\n",
    "    model_names = [f\"m{i}\" for i in range(num_models)]\n",
    "    arrival_process = UniformMMPP(state_durations, state_request_rates)\n",
    "    model_arrivals = {}\n",
    "    for i, name in enumerate(model_names):\n",
    "        model_arrivals[name] = arrival_process.generate_workload(name, start, duration, seed=seed + i).arrivals\n",
    "    return model_names, model_arrivals"
   ]
  },
  {
   "cell_type": "code",
   "execution_count": null,
   "id": "3fa0066b-d2aa-4b74-826b-7566b46129ea",
   "metadata": {},
   "outputs": [],
   "source": [
    "model_names, model_arrivals = generate_gamma_arrivals(num_models=16, average_rate=4, cv=10, duration=400)"
   ]
  },
  {
   "cell_type": "code",
   "execution_count": null,
   "id": "417e419b-fb4f-4091-97ff-69680c5e38e9",
   "metadata": {},
   "outputs": [],
   "source": [
    "for name in model_names[:2]:\n",
    "    plt.hist(model_arrivals[name], bins=np.linspace(0, 50, 500), alpha=0.8, label=name)\n",
    "    print(len(model_arrivals[name]) / 400)\n",
    "plt.title(\"Sample requests histogram (bin size = 0.1s)\")\n",
    "plt.ylabel(\"#requests\")\n",
    "plt.xlabel(\"time (s)\")\n",
    "plt.legend()\n",
    "fig = plt.gcf()\n",
    "figure_size = (8, 4)\n",
    "fig.set_size_inches(figure_size)\n",
    "fig.savefig(\"load_samples_50s.pdf\", bbox_inches='tight')\n",
    "fig.show()"
   ]
  },
  {
   "cell_type": "code",
   "execution_count": null,
   "id": "108dd086-7d3f-4676-b448-a621b8b92c07",
   "metadata": {},
   "outputs": [],
   "source": [
    "def per_timepoint_average_rate(T, arrivals, timepoints):\n",
    "    s = 0\n",
    "    e = 0\n",
    "    results = []\n",
    "    for t in timepoints:\n",
    "        while s < len(arrivals) and arrivals[s] < t - T / 2:\n",
    "            s += 1\n",
    "        while e < len(arrivals) and arrivals[e] < t + T / 2:\n",
    "            e += 1\n",
    "        results.append((e - s) / T)\n",
    "    return np.array(results)"
   ]
  },
  {
   "cell_type": "code",
   "execution_count": null,
   "id": "c5cb434d-524a-478c-885c-d7a75b18c066",
   "metadata": {},
   "outputs": [],
   "source": [
    "for T in [0.1, 1.0, 4.0, 8.0, 32.0]:\n",
    "    timepoints = np.linspace(0, 400, 64000)\n",
    "    average_rates = {}\n",
    "    for name in model_names:\n",
    "        average_rates[name] = per_timepoint_average_rate(T, model_arrivals[name], timepoints)\n",
    "    for name in model_names[:2]:\n",
    "        plt.plot(timepoints, average_rates[name], label=name)\n",
    "    plt.plot(timepoints, sum(average_rates.values())/16, label=\"mean(m0-m15)\")\n",
    "    plt.axhline(4, color='red', label=\"load=4 requests/s\")\n",
    "    plt.xlim(0, 400)\n",
    "    plt.xlabel(\"time (s)\")\n",
    "    plt.ylabel(\"moving average load (#requests/s)\")\n",
    "    plt.title(f\"T={T}s\")\n",
    "    plt.legend()\n",
    "    plt.axhline(4, color='red')\n",
    "    fig = plt.gcf()\n",
    "    figure_size = (8, 4)\n",
    "    fig.set_size_inches(figure_size)\n",
    "    fig.savefig(f\"average_loads_T{T}.pdf\", bbox_inches='tight')\n",
    "    plt.show()\n"
   ]
  },
  {
   "cell_type": "code",
   "execution_count": null,
   "id": "44d7b8b9-8a64-4719-a403-129d7000d395",
   "metadata": {},
   "outputs": [],
   "source": [
    "def kingmans_formula(arrival_rate, service_rate, cv_arrival, cv_service):\n",
    "    return arrival_rate / (service_rate - arrival_rate) * (cv_arrival ** 2 + cv_service ** 2) / 2 / service_rate\n",
    "\n",
    "def deterministic_wait_time(t, D, lambda_):\n",
    "    rou = lambda_ * D\n",
    "    res = 0\n",
    "    for i in range(0, int(np.floor(t/D) + 1)):\n",
    "        res += np.exp(- lambda_ * (i * D - t)) * (i * D - t) ** i / np.math.factorial(i) * lambda_ ** i\n",
    "    return res * (1 - rou)\n",
    "\n",
    "def get_arrival_statistics(arrivals, processing_latency, n_servers=1, \n",
    "                           poisson_server=False):\n",
    "    n_arrivals = len(arrivals)\n",
    "    arrival_gaps = arrivals[1:] - arrivals[:-1]\n",
    "    arrival_rate = 1 / np.mean(arrival_gaps)\n",
    "    cv_arrival = np.std(arrival_gaps) / np.mean(arrival_gaps)\n",
    "\n",
    "    latencies = []\n",
    "    current_finishing_time = np.zeros(n_servers)\n",
    "    wait_times = []\n",
    "    for arrival in arrivals:\n",
    "        server_id = np.argmin(current_finishing_time)\n",
    "        start_time = max(arrival, current_finishing_time[server_id])\n",
    "        if poisson_server:\n",
    "            current_finishing_time[server_id] = start_time + np.random.exponential(processing_latency)\n",
    "        else:\n",
    "            # Deterministic server\n",
    "            current_finishing_time[server_id] = start_time + processing_latency\n",
    "        wait_times.append(start_time - arrival)\n",
    "        latencies.append(current_finishing_time[server_id] - arrival)\n",
    "    wait_times = np.array(wait_times)\n",
    "    latencies = np.array(latencies)\n",
    "\n",
    "    mean_wait_time = np.mean(wait_times)\n",
    "    zero_percentage = np.sum(wait_times <= 1e-5) / len(wait_times)\n",
    "    mean_wait_time_without_zeros = np.mean(wait_times[wait_times > 1e-5])\n",
    "    \n",
    "    return (wait_times, latencies, arrival_rate, cv_arrival, \n",
    "            mean_wait_time, zero_percentage, mean_wait_time_without_zeros)\n",
    "\n",
    "def plot_wait_time_pdf_cdf(arrivals, processing_latency, n_servers=1, \n",
    "                           poisson_server=False, deterministic_curve_params=None):\n",
    "\n",
    "    (wait_times, latencies, arrival_rate, cv_arrival, \n",
    "     mean_wait_time, zero_percentage, mean_wait_time_without_zeros) = get_arrival_statistics(\n",
    "        arrivals, processing_latency, n_servers, poisson_server\n",
    "    )\n",
    "    \n",
    "    print(\"Arrival rate:\", arrival_rate)\n",
    "    print(\"CV arrival:\", cv_arrival)\n",
    "    print(\"Mean wait time:\", mean_wait_time)\n",
    "    print(\"Kingman's prediction:\", kingmans_formula(arrival_rate, 1 / processing_latency, cv_arrival, 0.0))\n",
    "    print(\"Zero wait time percentage:\", zero_percentage)\n",
    "\n",
    "    # Plot\n",
    "    x_max = np.max(wait_times)\n",
    "    x = np.linspace(0, x_max, 100)\n",
    "    n, bins, _ = plt.hist(wait_times, bins=x, density=True)\n",
    "    plt.plot(x, 1 / mean_wait_time_without_zeros * np.exp(- x / mean_wait_time_without_zeros))\n",
    "    plt.title(\"Wait time PDF\")\n",
    "    plt.xlabel(\"Wait time (s)\")\n",
    "    plt.show()\n",
    "    fig = plt.gcf()\n",
    "    plt.title(\"Wait time CDF\")\n",
    "    cdfx = np.sort(wait_times)\n",
    "    cdfy = np.linspace(0, 1, len(wait_times), endpoint=False)\n",
    "    plt.plot(cdfx, cdfy)\n",
    "    plt.plot(x, 1 - (1 - zero_percentage) * np.exp(- x / np.mean(mean_wait_time_without_zeros)))\n",
    "    if deterministic_curve_params is not None:\n",
    "        D, lambda_ = deterministic_curve_params\n",
    "        cdfy_estimated = [deterministic_wait_time(x, D, lambda_) for x in cdfx]\n",
    "        plt.plot(cdfx, cdfy_estimated)\n",
    "    plt.axhline(0.99, color='red', linewidth=0.5)\n",
    "    plt.axhline(0.95, color='red', linewidth=0.5)\n",
    "    plt.xlabel(\"Wait time (s)\")\n",
    "    plt.show()\n",
    "\n",
    "    return cdfx, cdfy"
   ]
  },
  {
   "cell_type": "code",
   "execution_count": null,
   "id": "eb771e89-93f0-40fe-8d6d-2f1335780196",
   "metadata": {},
   "outputs": [],
   "source": [
    "model_names, model_arrivals = generate_uniform_mmpp_arrivals(\n",
    "    num_models=1, duration=50000, state_durations=(100, 1), state_request_rates=(4, 400), seed=2)\n",
    "arrivals = np.array(model_arrivals[\"m0\"])\n",
    "processing_latency = 0.1"
   ]
  },
  {
   "cell_type": "code",
   "execution_count": null,
   "id": "5bf2e4fc-e056-43bc-be51-533469530e80",
   "metadata": {},
   "outputs": [],
   "source": [
    "cdfx1, cdfy1 = plot_wait_time_pdf_cdf(arrivals, processing_latency)"
   ]
  },
  {
   "cell_type": "code",
   "execution_count": null,
   "id": "30ff1dc5-3436-415a-9cfa-f99bec0100ab",
   "metadata": {},
   "outputs": [],
   "source": [
    "cdfx10, cdfy10 = plot_wait_time_pdf_cdf(arrivals, processing_latency * 10, n_servers=10)\n",
    "plt.plot(cdfx1, cdfy1, label=\"1 server latency = 0.1\")\n",
    "plt.plot(cdfx10, cdfy10, label=\"10 server latency = 1.0\")\n",
    "plt.legend()\n",
    "plt.show()"
   ]
  },
  {
   "cell_type": "code",
   "execution_count": null,
   "id": "30338917-3650-4a1f-824c-100e1cc067b6",
   "metadata": {},
   "outputs": [],
   "source": [
    "_ = plt.hist(arrivals, bins=np.linspace(0, 1000, 1000))"
   ]
  },
  {
   "cell_type": "code",
   "execution_count": null,
   "id": "5ee96612-8a48-47a4-88ce-1b2d6c153c27",
   "metadata": {
    "tags": []
   },
   "outputs": [],
   "source": [
    "model_names, model_arrivals = generate_uniform_mmpp_arrivals(\n",
    "    num_models=1, duration=50000, state_durations=(10, 1), state_request_rates=(4, 40), seed=2)\n",
    "arrivals = np.array(model_arrivals[\"m0\"])\n",
    "processing_latency = 0.1\n",
    "_ = plot_wait_time_pdf_cdf(arrivals, processing_latency)"
   ]
  },
  {
   "cell_type": "code",
   "execution_count": null,
   "id": "9f560910-774c-40b1-a041-fc7b129f11c0",
   "metadata": {},
   "outputs": [],
   "source": [
    "_ = plt.hist(arrivals, bins=np.linspace(0, 1000, 1000))"
   ]
  },
  {
   "cell_type": "code",
   "execution_count": null,
   "id": "ef3a6179-7f1a-49ec-a87e-1b0c52fb41a1",
   "metadata": {},
   "outputs": [],
   "source": [
    "model_names, model_arrivals = generate_gamma_arrivals(\n",
    "    num_models=1, average_rate=8, cv=1, duration=100000, seed=2)\n",
    "arrivals = np.array(model_arrivals[\"m0\"])\n",
    "processing_latency = 0.1\n",
    "_ = plot_wait_time_pdf_cdf(arrivals, processing_latency)"
   ]
  },
  {
   "cell_type": "code",
   "execution_count": null,
   "id": "c47908b1-57ad-4570-9f93-75a0e5bdf241",
   "metadata": {},
   "outputs": [],
   "source": [
    "model_names, model_arrivals = generate_gamma_arrivals(\n",
    "    num_models=1, average_rate=8, cv=1, duration=100000, seed=2)\n",
    "arrivals = np.array(model_arrivals[\"m0\"])\n",
    "processing_latency = 0.1\n",
    "_ = plot_wait_time_pdf_cdf(arrivals, processing_latency, poisson_server=True)"
   ]
  },
  {
   "cell_type": "code",
   "execution_count": null,
   "id": "61219c84-04f0-4c56-be97-8b6b7a96650d",
   "metadata": {},
   "outputs": [],
   "source": [
    "_ = plt.hist(arrivals, bins=np.linspace(0, 1000, 1000))"
   ]
  },
  {
   "cell_type": "code",
   "execution_count": null,
   "id": "ec355991-ed02-4f37-80e7-a75ac13f0a81",
   "metadata": {},
   "outputs": [],
   "source": [
    "average_rate = 5\n",
    "model_names, model_arrivals = generate_gamma_arrivals(\n",
    "    num_models=1, average_rate=average_rate, cv=1, duration=100000, seed=2)\n",
    "arrivals = np.array(model_arrivals[\"m0\"])\n",
    "processing_latency = 0.1\n",
    "# _ = plot_wait_time_pdf_cdf(arrivals, processing_latency, n_servers=1, \n",
    "#                            deterministic_curve_params=(processing_latency, average_rate))\n",
    "_ = plot_wait_time_pdf_cdf(arrivals, processing_latency, n_servers=1)"
   ]
  },
  {
   "cell_type": "code",
   "execution_count": null,
   "id": "3a74a8a0-f6b5-412b-ab1b-d93b4af2b3a6",
   "metadata": {},
   "outputs": [],
   "source": [
    "_ = plt.hist(arrivals, bins=np.linspace(0, 1000, 1000))"
   ]
  },
  {
   "cell_type": "code",
   "execution_count": null,
   "id": "1238a4ad-b919-4cf5-9f5a-1367388836bc",
   "metadata": {},
   "outputs": [],
   "source": [
    "def test_with_multiple_processing_latencies(arrivals):\n",
    "    arrival_gaps = arrivals[1:] - arrivals[:-1]\n",
    "    arrival_rate = 1 / np.mean(arrival_gaps)\n",
    "\n",
    "    print(f\"arrival_rate={arrival_rate}\")\n",
    "\n",
    "    processing_latencies = np.linspace(0.01 * 1 / arrival_rate, 0.99 * 1 / arrival_rate, 40)\n",
    "    zero_percentage_list = []\n",
    "    mean_wait_time_without_zeros_list = []\n",
    "    for processing_latency in processing_latencies:\n",
    "        (wait_times, latencies, arrival_rate_, cv_arrival, \n",
    "         mean_wait_time, zero_percentage, mean_wait_time_without_zeros) = get_arrival_statistics(\n",
    "            arrivals, processing_latency, \n",
    "            # poisson_server=True\n",
    "        )\n",
    "        zero_percentage_list.append(zero_percentage)\n",
    "        mean_wait_time_without_zeros_list.append(mean_wait_time_without_zeros)\n",
    "        print(f\"processing_latency={processing_latency}, \"\n",
    "              f\"zero_percentage={zero_percentage}, \"\n",
    "              f\"mean_wait_time_without_zeros={mean_wait_time_without_zeros}\")\n",
    "    return arrival_rate, processing_latencies, zero_percentage_list, mean_wait_time_without_zeros_list"
   ]
  },
  {
   "cell_type": "code",
   "execution_count": null,
   "id": "cca548ee-cac0-457b-9e70-2587eca61876",
   "metadata": {},
   "outputs": [],
   "source": [
    "mmpp_arrivals = np.array(generate_uniform_mmpp_arrivals(\n",
    "    num_models=1, duration=50000, state_durations=(10, 1), state_request_rates=(4, 40), seed=3)[1][\"m0\"])\n",
    "mmpp_simulated_results = test_with_multiple_processing_latencies(mmpp_arrivals)"
   ]
  },
  {
   "cell_type": "code",
   "execution_count": null,
   "id": "e2cf77fb-b9ed-42e7-bb97-3f0ecdd304d1",
   "metadata": {},
   "outputs": [],
   "source": [
    "poisson_arrivals = np.array(generate_gamma_arrivals(\n",
    "    num_models=1, average_rate=5, cv=1, duration=50000, seed=2)[1][\"m0\"])\n",
    "poisson_simulated_results = test_with_multiple_processing_latencies(poisson_arrivals)"
   ]
  },
  {
   "cell_type": "code",
   "execution_count": null,
   "id": "8f496956-e989-47cb-bab1-8684aaca2483",
   "metadata": {},
   "outputs": [],
   "source": [
    "gamma_arrivals = np.array(generate_gamma_arrivals(\n",
    "    num_models=1, average_rate=8, cv=3, duration=50000, seed=2)[1][\"m0\"])\n",
    "gamma_simulated_results = test_with_multiple_processing_latencies(gamma_arrivals)"
   ]
  },
  {
   "cell_type": "code",
   "execution_count": null,
   "id": "c874a840-0a54-420d-add8-7df396b50d79",
   "metadata": {},
   "outputs": [],
   "source": [
    "def plot_linear_fit(x, y, fit=True, fit_with_first_datapoints=False):\n",
    "    sorted_indices = np.argsort(x)\n",
    "    x = x[sorted_indices][:-10]\n",
    "    y = np.array(y)\n",
    "    y = y[sorted_indices][:-10]\n",
    "    plt.plot(x, y, '.-')\n",
    "    if fit:\n",
    "        if fit_with_first_datapoints:\n",
    "            k, b = np.polyfit(x[:20], y[:20], deg=1)\n",
    "        else:\n",
    "            k, b = np.polyfit(x, y, deg=1)\n",
    "        plt.plot(x, k * x + b, '.-')\n",
    "        print(f\"k={k}, b={b}\")\n",
    "    plt.show()\n",
    "\n",
    "def visualize_results(result, fit=True):\n",
    "    arrival_rate, processing_latencies, zero_percentage_list, mean_wait_time_without_zeros_list = result    \n",
    "    processing_latencies = np.array(processing_latencies)\n",
    "    zero_percentage_list = np.array(zero_percentage_list)\n",
    "    mean_wait_time_without_zeros_list = np.array(mean_wait_time_without_zeros_list)\n",
    "    alpha = 1 - zero_percentage_list\n",
    "    beta = 1 / mean_wait_time_without_zeros_list\n",
    "    # Plot 1\n",
    "    print(\"alpha\")\n",
    "    x = np.concatenate(([0.0], (arrival_rate * processing_latencies))) \n",
    "    y = np.concatenate(([0.0], alpha))\n",
    "    plot_linear_fit(x, y, fit)\n",
    "    # Plot 2\n",
    "    print(\"beta\")\n",
    "    x = (1 / processing_latencies - arrival_rate)\n",
    "    y = beta\n",
    "    plot_linear_fit(x, y, fit)\n",
    "    # Plot 3\n",
    "    print(\"alpha vs. beta\")\n",
    "    plot_linear_fit((1 - alpha) / processing_latencies, beta, fit)\n",
    "    plt.show()"
   ]
  },
  {
   "cell_type": "code",
   "execution_count": null,
   "id": "604b3d24-bb85-4b4e-bad6-545222cb9ef4",
   "metadata": {},
   "outputs": [],
   "source": [
    "print(\"-\" * 40 + \" Poisson results \" + \"-\" * 40)\n",
    "visualize_results(poisson_simulated_results, fit=True)\n",
    "print(\"-\" * 40 + \"  MMPP results   \" + \"-\" * 40)\n",
    "visualize_results(mmpp_simulated_results, fit=True)\n",
    "print(\"-\" * 40 + \"  Gamma results  \" + \"-\" * 40)\n",
    "visualize_results(gamma_simulated_results, fit=True)"
   ]
  },
  {
   "cell_type": "code",
   "execution_count": null,
   "id": "545aa8b2-f607-424f-b9dd-fd827d95d617",
   "metadata": {},
   "outputs": [],
   "source": [
    "def gamma_r0(k, lambda_, mu):\n",
    "    p = np.zeros(k + 2)\n",
    "    p[0] = mu\n",
    "    p[-2] = -(k * lambda_ + mu)\n",
    "    p[-1] = k * lambda_\n",
    "    roots = np.roots(p)\n",
    "    for root in roots:\n",
    "        if np.isreal(root) and 0 < root < 1-1e-10:\n",
    "            return root\n",
    "    print(k, lambda_, mu)\n",
    "    print(k, lambda_, mu)\n",
    "    print(roots)\n",
    "    raise ValueError()\n",
    "\n",
    "\n",
    "lambda_ = 4.0\n",
    "mus = np.linspace(lambda_ + 1, lambda_ * 10)\n",
    "for k in [2, 3, 4]:\n",
    "    r0s = []    \n",
    "    for mu in mus:\n",
    "        r0s.append(gamma_r0(k, lambda_, mu))\n",
    "    r0s = np.array(r0s)\n",
    "    plt.plot(mus, r0s ** k)"
   ]
  },
  {
   "cell_type": "markdown",
   "id": "c0c8b6f2-ffcc-4fcd-9886-d69b953f646d",
   "metadata": {},
   "source": [
    "# Sketch"
   ]
  },
  {
   "cell_type": "code",
   "execution_count": null,
   "id": "serious-magazine",
   "metadata": {},
   "outputs": [],
   "source": [
    "import pickle\n",
    "from alpa_serve.profiling import ParallelConfig\n",
    "from alpa_serve.placement_policy import ModelParallelismPlacement\n",
    "import numpy as np"
   ]
  },
  {
   "cell_type": "code",
   "execution_count": null,
   "id": "bef8774e-01ed-458f-9635-a0927616b110",
   "metadata": {},
   "outputs": [],
   "source": [
    "result = pickle.load(open(\"profiling_result.pkl\", \"rb\"))"
   ]
  },
  {
   "cell_type": "code",
   "execution_count": null,
   "id": "ef640c5e-e3ef-4984-bf3b-ba131dfcc73f",
   "metadata": {},
   "outputs": [],
   "source": [
    "latency_8stages = np.array(result['bert-1.3b'].para_dict[ParallelConfig(1, 1, 8)].latency[1])"
   ]
  },
  {
   "cell_type": "code",
   "execution_count": null,
   "id": "01b667dd-1e12-4b7f-8e86-6540a6974d18",
   "metadata": {},
   "outputs": [],
   "source": [
    "latency_8stages.max() * 8"
   ]
  },
  {
   "cell_type": "code",
   "execution_count": null,
   "id": "59de5a61-2a1f-4244-9891-214e80be7607",
   "metadata": {},
   "outputs": [],
   "source": [
    "latency_1stage = np.array(result['bert-1.3b'].para_dict[ParallelConfig(1, 1, 1)].latency[1])"
   ]
  },
  {
   "cell_type": "code",
   "execution_count": null,
   "id": "8a9c3f69-ea48-465e-a821-68a61b263c42",
   "metadata": {},
   "outputs": [],
   "source": [
    "latency_1stage"
   ]
  },
  {
   "cell_type": "code",
   "execution_count": null,
   "id": "c1dca70f-2754-4c3d-9a8b-987f4a99b1cf",
   "metadata": {},
   "outputs": [],
   "source": [
    "0.12776608 / 0.0996182"
   ]
  },
  {
   "cell_type": "code",
   "execution_count": null,
   "id": "4d009894-507d-48ba-b90e-aade1fadab13",
   "metadata": {},
   "outputs": [],
   "source": [
    "np.array(result['bert-1.3b'].para_dict[ParallelConfig(1, 1, 4)].latency[1]).max() * 4"
   ]
  },
  {
   "cell_type": "code",
   "execution_count": null,
   "id": "61aa5241-098c-4cd2-a0b3-4e4810819c3e",
   "metadata": {},
   "outputs": [],
   "source": [
    "0.10797936 / 0.0996182"
   ]
  },
  {
   "cell_type": "code",
   "execution_count": null,
   "id": "de54c74c-f71b-4db5-a64b-03b45906b0de",
   "metadata": {},
   "outputs": [],
   "source": [
    "def compute_capability(slo, profile_result, parallel_config):\n",
    "    slo = slo\n",
    "    latency_mem = profile_result.para_dict.get(parallel_config, None)\n",
    "\n",
    "    if latency_mem is None:\n",
    "        return 0\n",
    "\n",
    "    num_stages = parallel_config.pp\n",
    "    max_cap = 0\n",
    "    max_bs = 1\n",
    "    for b, ls in latency_mem.latency.items():\n",
    "        if b > max_bs:\n",
    "            continue\n",
    "\n",
    "        # slo = sum(ls) + (n-1) * max(ls)\n",
    "        # so, n = ceil((slo - sum(ls)) / max(ls)) + 1\n",
    "        max_cap = max(max_cap, (slo - sum(ls)) // max(ls) + 1)\n",
    "\n",
    "    return max_cap\n"
   ]
  },
  {
   "cell_type": "code",
   "execution_count": null,
   "id": "09bfa55d-9039-4cae-be42-404842681b35",
   "metadata": {},
   "outputs": [],
   "source": [
    "slos = [0.1, 0.2, 0.4, 0.8, 1.0, 2.0, 4.0, 8.0]\n",
    "for slo in slos:\n",
    "    for pp in [1, 2, 4, 8]:\n",
    "        print(\"slo\", slo, \"pp\", pp, compute_capability(slo, result['bert-1.3b'], ParallelConfig(1, 1, pp)))"
   ]
  },
  {
   "cell_type": "code",
   "execution_count": null,
   "id": "873ba803-9de6-496f-bd64-1e09329f1e02",
   "metadata": {},
   "outputs": [],
   "source": [
    "# slo 0.8 pp 1 8.0\n",
    "# slo 0.8 pp 2 15.0\n",
    "# slo 0.8 pp 4 26.0\n",
    "# slo 0.8 pp 8 44.0\n",
    "# slo 1.0 pp 1 10.0\n",
    "# slo 1.0 pp 2 19.0\n",
    "# slo 1.0 pp 4 34.0\n",
    "# slo 1.0 pp 8 56.0\n",
    "\n",
    "# SLO 0.8: Optimal case\n",
    "# ModelParallelismPlacement([(ParallelConfig(dp=1, op=1, pp=4), [0, 1, 2, 3, 4, 5, 7, 8, 9, 10, 11, 12, 13, 14, 15]), \n",
    "#                            (ParallelConfig(dp=1, op=1, pp=4), [0, 1, 2, 3, 4, 5, 6, 7, 8, 9, 10, 11, 12, 13, 15])])\n",
    "obj_optimal = 26 * 2\n",
    "obj_non_optimal = 26\n",
    "# SLO 1.0: Optimal case\n",
    "# ModelParallelismPlacement([(ParallelConfig(dp=1, op=1, pp=2), [0, 7, 9, 10, 11, 12, 13]), \n",
    "#                            (ParallelConfig(dp=1, op=1, pp=1), [7, 11, 12]), \n",
    "#                            (ParallelConfig(dp=1, op=1, pp=1), [2, 5, 7]), \n",
    "#                            (ParallelConfig(dp=1, op=1, pp=4), [0, 1, 2, 3, 4, 5, 6, 8, 9, 10, 11, 12, 13, 14, 15])])\n",
    "obj_optimal = 34.0 * 2\n",
    "obj_non_optimal = 34.0"
   ]
  },
  {
   "cell_type": "code",
   "execution_count": null,
   "id": "acd97e0c-868c-4e26-846c-9568eccb6194",
   "metadata": {},
   "outputs": [],
   "source": [
    "result['bert-1.3b'].para_dict[ParallelConfig(1, 1, 1)].weight_mem"
   ]
  },
  {
   "cell_type": "code",
   "execution_count": null,
   "id": "9b7bc2a4-6e6b-496d-bf3b-4cd85218d57d",
   "metadata": {},
   "outputs": [],
   "source": [
    "from alpa_serve.util import GB"
   ]
  },
  {
   "cell_type": "code",
   "execution_count": null,
   "id": "b3b5accc-317a-44df-a247-b4ecd29bda50",
   "metadata": {},
   "outputs": [],
   "source": [
    "10*GB"
   ]
  },
  {
   "cell_type": "code",
   "execution_count": null,
   "id": "291c0c23-f730-408e-8e2c-34e9b51df7d1",
   "metadata": {},
   "outputs": [],
   "source": [
    "40 / (2838835202.8206697 / GB)"
   ]
  },
  {
   "cell_type": "code",
   "execution_count": null,
   "id": "924f7b1b-7d99-497f-bc47-b5c85e1fc2bd",
   "metadata": {},
   "outputs": [],
   "source": [
    "len([0, 1, 2, 3, 4, 5, 7, 8, 9, 10, 11, 12, 13, 14, 15])"
   ]
  },
  {
   "cell_type": "code",
   "execution_count": null,
   "id": "02fc7ab0-f51f-4579-a01b-e9ae85e98f17",
   "metadata": {},
   "outputs": [],
   "source": []
  }
 ],
 "metadata": {
  "kernelspec": {
   "display_name": "Python 3",
   "language": "python",
   "name": "python3"
  },
  "language_info": {
   "codemirror_mode": {
    "name": "ipython",
    "version": 3
   },
   "file_extension": ".py",
   "mimetype": "text/x-python",
   "name": "python",
   "nbconvert_exporter": "python",
   "pygments_lexer": "ipython3",
   "version": "3.7.10"
  },
  "vscode": {
   "interpreter": {
    "hash": "caf1c2fcf97217de91eafa76b907d50f9ea378f5ffbee7f571142d119bb6a771"
   }
  }
 },
 "nbformat": 4,
 "nbformat_minor": 5
}
